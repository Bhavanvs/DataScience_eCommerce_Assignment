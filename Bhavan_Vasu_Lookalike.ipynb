{
 "cells": [
  {
   "cell_type": "code",
   "execution_count": 1,
   "id": "bbdf08b9-2275-4251-9904-3015178e4020",
   "metadata": {},
   "outputs": [],
   "source": [
    "#Task_2"
   ]
  },
  {
   "cell_type": "code",
   "execution_count": 2,
   "id": "c3756f84-da71-4c34-b968-1e0e13011d59",
   "metadata": {},
   "outputs": [],
   "source": [
    "import pandas as pd\n",
    "import matplotlib.pyplot as plt\n",
    "import seaborn as sns\n",
    "import numpy as np\n",
    "from sklearn.preprocessing import StandardScaler\n",
    "from sklearn.metrics.pairwise import cosine_similarity\n",
    "from sklearn.preprocessing import OneHotEncoder"
   ]
  },
  {
   "cell_type": "code",
   "execution_count": 3,
   "id": "31ed6f55-7129-4012-9e9b-8fb1c49dbdfe",
   "metadata": {},
   "outputs": [],
   "source": [
    "customers = pd.read_csv(\"Customers.csv\")\n",
    "products = pd.read_csv(\"Products.csv\")\n",
    "transactions = pd.read_csv(\"Transactions.csv\")"
   ]
  },
  {
   "cell_type": "code",
   "execution_count": 4,
   "id": "310f759d-5beb-481e-8d93-3897e646f65f",
   "metadata": {},
   "outputs": [],
   "source": [
    "# Merge datasets for deeper analysis\n",
    "merged_data = transactions.merge(customers, on='CustomerID', how='left')\n",
    "merged_data = merged_data.merge(products, on='ProductID', how='left')"
   ]
  },
  {
   "cell_type": "code",
   "execution_count": 5,
   "id": "dc260718-6bc2-4400-91ca-f58379b755f2",
   "metadata": {},
   "outputs": [],
   "source": [
    "# Aggregate total spending per customer\n",
    "customer_spending = merged_data.groupby('CustomerID')['TotalValue'].sum().reset_index()"
   ]
  },
  {
   "cell_type": "code",
   "execution_count": 6,
   "id": "625db0ae-449d-4feb-80bc-d2daf8448db1",
   "metadata": {},
   "outputs": [],
   "source": [
    "from sklearn.preprocessing import OneHotEncoder\n",
    "\n",
    "# One-Hot Encoding for categorical features like Region and Product Category\n",
    "encoder = OneHotEncoder(sparse_output=False)  # Updated argument\n",
    "region_encoded = encoder.fit_transform(customers[['Region']])\n",
    "region_df = pd.DataFrame(region_encoded, columns=encoder.get_feature_names_out(['Region']))\n",
    "customers_encoded = pd.concat([customers, region_df], axis=1)"
   ]
  },
  {
   "cell_type": "code",
   "execution_count": 7,
   "id": "b64f4c1a-22bc-4d51-9570-0b89e595a6b4",
   "metadata": {},
   "outputs": [],
   "source": [
    "# Merge the encoded data with customer spending\n",
    "customer_data = pd.merge(customers_encoded, customer_spending, on='CustomerID', how='left')"
   ]
  },
  {
   "cell_type": "code",
   "execution_count": 8,
   "id": "ea96be4b-4d1c-4ea6-823c-67acdf0e15fc",
   "metadata": {},
   "outputs": [],
   "source": [
    "# Normalize the numerical features (TotalValue, etc.)\n",
    "scaler = StandardScaler()\n",
    "numerical_columns = ['TotalValue'] + list(region_df.columns)\n",
    "customer_data[numerical_columns] = scaler.fit_transform(customer_data[numerical_columns])"
   ]
  },
  {
   "cell_type": "code",
   "execution_count": 9,
   "id": "6217232a-0172-45f2-a71d-267a02a06fd9",
   "metadata": {},
   "outputs": [],
   "source": [
    "# Similarity Calculation using Cosine Similarity\n",
    "# Drop non-relevant columns for similarity calculation\n",
    "similarity_data = customer_data.drop(columns=['CustomerID', 'SignupDate', 'Region']) "
   ]
  },
  {
   "cell_type": "code",
   "execution_count": 15,
   "id": "cb589ce7-925e-4020-9565-a39bb8588ef6",
   "metadata": {},
   "outputs": [
    {
     "name": "stdout",
     "output_type": "stream",
     "text": [
      "Region_Asia             0\n",
      "Region_Europe           0\n",
      "Region_North America    0\n",
      "Region_South America    0\n",
      "TotalValue              1\n",
      "dtype: int64\n"
     ]
    }
   ],
   "source": [
    "# Check for missing values in the numeric data\n",
    "print(similarity_data_numeric.isnull().sum())\n",
    "\n",
    "# Fill missing values with 0 (or another value of your choice)\n",
    "similarity_data_numeric_filled = similarity_data_numeric.fillna(0)\n",
    "\n",
    "# Compute cosine similarity between all customers after handling missing values\n",
    "cosine_sim = cosine_similarity(similarity_data_numeric_filled)"
   ]
  },
  {
   "cell_type": "code",
   "execution_count": null,
   "id": "2bf677d1-11f2-4028-82d8-1aa3820b9975",
   "metadata": {},
   "outputs": [],
   "source": []
  }
 ],
 "metadata": {
  "kernelspec": {
   "display_name": "Python 3 (ipykernel)",
   "language": "python",
   "name": "python3"
  },
  "language_info": {
   "codemirror_mode": {
    "name": "ipython",
    "version": 3
   },
   "file_extension": ".py",
   "mimetype": "text/x-python",
   "name": "python",
   "nbconvert_exporter": "python",
   "pygments_lexer": "ipython3",
   "version": "3.12.2"
  }
 },
 "nbformat": 4,
 "nbformat_minor": 5
}
